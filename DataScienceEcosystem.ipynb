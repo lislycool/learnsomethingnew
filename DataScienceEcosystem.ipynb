{
 "cells": [
  {
   "cell_type": "markdown",
   "id": "d63aa81d",
   "metadata": {},
   "source": [
    "# Data Science Tools and Ecosystem"
   ]
  },
  {
   "cell_type": "markdown",
   "id": "819fe513",
   "metadata": {},
   "source": [
    "In this notebook, Data Science Tools and Ecosystem are summarized."
   ]
  },
  {
   "cell_type": "markdown",
   "id": "7a21d862",
   "metadata": {},
   "source": [
    "__Objectives:__ \n",
    "- Learn about the popular languages that Data Scientists use\n",
    "- Learn some of the common used libraries used by Data Scientists\n",
    "- Learn about what is Data Science"
   ]
  },
  {
   "cell_type": "markdown",
   "id": "d8d87fb2",
   "metadata": {},
   "source": [
    "Some of the popular languages that Data Scientists use are: 1. Python, 2. R, 3. SQL"
   ]
  },
  {
   "cell_type": "markdown",
   "id": "b51d361e",
   "metadata": {},
   "source": [
    "Some of the commonly used libraries used by Data Scientists include: 1. pandas, 2. numpy, 3. matlibplot"
   ]
  },
  {
   "cell_type": "markdown",
   "id": "bdc9b3cf",
   "metadata": {},
   "source": [
    "| Data Science Tools | \n",
    "|:---------:|\n",
    "|  python  |  \n",
    "|  jupyter notebook  |  \n",
    "|  plotly   |  \n"
   ]
  },
  {
   "cell_type": "markdown",
   "id": "2137af3f",
   "metadata": {},
   "source": [
    "### Below are a few examples of evaluating arithmetic expressions in Python"
   ]
  },
  {
   "cell_type": "markdown",
   "id": "e4f6d761",
   "metadata": {},
   "source": [
    "x[1]/x[4]*100\n"
   ]
  },
  {
   "cell_type": "code",
   "execution_count": 8,
   "id": "2fdf49ed",
   "metadata": {},
   "outputs": [
    {
     "data": {
      "text/plain": [
       "17"
      ]
     },
     "execution_count": 8,
     "metadata": {},
     "output_type": "execute_result"
    }
   ],
   "source": [
    "# This a simple arithmetic expression to mutiply then add integers\n",
    "(3*4)+5"
   ]
  },
  {
   "cell_type": "code",
   "execution_count": 11,
   "id": "68f972f2",
   "metadata": {},
   "outputs": [
    {
     "data": {
      "text/plain": [
       "3.3333333333333335"
      ]
     },
     "execution_count": 11,
     "metadata": {},
     "output_type": "execute_result"
    }
   ],
   "source": [
    "#This will convert 200 minutes to hours by dividing by 60.\n",
    "200/60"
   ]
  },
  {
   "cell_type": "markdown",
   "id": "04e8cdbb",
   "metadata": {},
   "source": [
    "## Author\n",
    "Lee Choua Ly"
   ]
  },
  {
   "cell_type": "code",
   "execution_count": null,
   "id": "89dedb39",
   "metadata": {},
   "outputs": [],
   "source": []
  }
 ],
 "metadata": {
  "kernelspec": {
   "display_name": "Python 3 (ipykernel)",
   "language": "python",
   "name": "python3"
  },
  "language_info": {
   "codemirror_mode": {
    "name": "ipython",
    "version": 3
   },
   "file_extension": ".py",
   "mimetype": "text/x-python",
   "name": "python",
   "nbconvert_exporter": "python",
   "pygments_lexer": "ipython3",
   "version": "3.11.5"
  }
 },
 "nbformat": 4,
 "nbformat_minor": 5
}
